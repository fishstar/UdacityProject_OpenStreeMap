{
 "cells": [
  {
   "cell_type": "markdown",
   "metadata": {},
   "source": [
    "# 项目P3：整理 OpenStreetMap 数据"
   ]
  },
  {
   "cell_type": "markdown",
   "metadata": {},
   "source": [
    "## 地图数据\n",
    "\n",
    "[OpenStreetMap](https://www.openstreetmap.org/) 是一个开放的地图数据集，该数据包含了节点（nodes）、途径（ways）和相互关系（relations）这些主要信息，详情可参见其[维基页面](https://wiki.openstreetmap.org/wiki/OSM_XML)。\n",
    "\n",
    "\n",
    "本项目选取了[北京地区](https://www.openstreetmap.org/relation/912940#map=8/40.255/116.463)的地图数据，从 [Mapzen](https://mapzen.com/data/metro-extracts/metro/beijing_china/)中直接下载而来。之所以选北京地区，是因为其数据量较其他城市更丰富，而且更为大家熟悉。\n",
    "\n",
    "这篇报告是在 Jupyter Notebook 中完成的。首先让我们导入相应的工具包，其中 osm2csv.py 是自定义的 Python  代码模块，它将 osm 格式的地图数据转换成 csv 格式，这部分代码来自于 Udacity 课程中的练习案例。\n"
   ]
  },
  {
   "cell_type": "code",
   "execution_count": 1,
   "metadata": {
    "collapsed": true
   },
   "outputs": [],
   "source": [
    "import pandas as pd\n",
    "import re\n",
    "import osm2csv"
   ]
  },
  {
   "cell_type": "markdown",
   "metadata": {},
   "source": [
    "然后我们使用 osm2csv.py 中的 `process_map()` 函数将北京的地图数据进行处理，转换成一系列csv格式的数据。"
   ]
  },
  {
   "cell_type": "code",
   "execution_count": 2,
   "metadata": {
    "collapsed": true
   },
   "outputs": [],
   "source": [
    "osm2csv.process_map('beijing_china.osm', validate=False)  "
   ]
  },
  {
   "cell_type": "markdown",
   "metadata": {},
   "source": [
    "我们使用Linux中的命令来查看现有的数据集。其中 beijing_china.osm 是原始数据，数据量有175M。其他以 .csv 结尾的文件是新生成的数据，nodes.csv 和 nodes_tags.csv 是关于节点的数据文件；ways.csv、ways_nodes.csv 和 ways_tags.csv 是关于途径的数据文件。"
   ]
  },
  {
   "cell_type": "code",
   "execution_count": 3,
   "metadata": {},
   "outputs": [
    {
     "name": "stdout",
     "output_type": "stream",
     "text": [
      " 65M\tnodes.csv\r\n",
      "2.9M\tnodes_tags.csv\r\n",
      "6.9M\tways.csv\r\n",
      " 23M\tways_nodes.csv\r\n",
      "8.0M\tways_tags.csv\r\n",
      "175M\tbeijing_china.osm\r\n",
      " 18M\tsample_beijing_china.osm\r\n"
     ]
    }
   ],
   "source": [
    "!du -h *.csv *.osm"
   ]
  },
  {
   "cell_type": "markdown",
   "metadata": {},
   "source": [
    "数据中的tag属性描述了关于节点和途径的具体信息，是我们接下来要关注的重点，所以这里主要处理 nodes_tags.csv 和 ways_tags.csv 这两份数据文件，并将它们存储到 DataFrame 中。"
   ]
  },
  {
   "cell_type": "code",
   "execution_count": 4,
   "metadata": {
    "collapsed": true
   },
   "outputs": [],
   "source": [
    "node_tag = pd.read_csv('nodes_tags.csv')\n",
    "way_tag = pd.read_csv('ways_tags.csv')"
   ]
  },
  {
   "cell_type": "markdown",
   "metadata": {},
   "source": [
    "## 地图数据中的问题\n",
    "\n",
    "在观察数据以后，有以下几类数据问题需要处理：\n",
    "* 电话号码格式混乱（比如 +86 10 6582 2892， (010)64629112，+86-10-60712288）。\n",
    "* 存在错误的邮政编码（比如位数不对或者不在北京地区范围内）。\n",
    "* 营业时间格式混乱不统一（比如 10am - 11pm、9:00 - 22:00、24小时、24h等）。\n",
    "* 门牌号码错误（比如门牌号中没有包含数字）。\n",
    "* 缺失name属性值（同一节点或途径，如果有zh（中文名）属性却没有name属性，则需要用zh的值进行补全）。\n",
    "\n",
    "下面我们将会逐一处理这些问题，为了表述的简洁性，这里将数据清洗的代码块存储到 clean.py 文件中，在 notebook 中只需导入clean模块，并调用相应的处理函数即可。"
   ]
  },
  {
   "cell_type": "code",
   "execution_count": 5,
   "metadata": {
    "collapsed": true
   },
   "outputs": [],
   "source": [
    "import clean"
   ]
  },
  {
   "cell_type": "markdown",
   "metadata": {},
   "source": [
    "### 清洗电话号码"
   ]
  },
  {
   "cell_type": "markdown",
   "metadata": {},
   "source": [
    "下方列出了若干电话号码数据，观察其 value 值发现它们的格式不尽相同，所以需要将他们的格式进行统一。"
   ]
  },
  {
   "cell_type": "code",
   "execution_count": 6,
   "metadata": {},
   "outputs": [
    {
     "data": {
      "text/html": [
       "<div>\n",
       "<style>\n",
       "    .dataframe thead tr:only-child th {\n",
       "        text-align: right;\n",
       "    }\n",
       "\n",
       "    .dataframe thead th {\n",
       "        text-align: left;\n",
       "    }\n",
       "\n",
       "    .dataframe tbody tr th {\n",
       "        vertical-align: top;\n",
       "    }\n",
       "</style>\n",
       "<table border=\"1\" class=\"dataframe\">\n",
       "  <thead>\n",
       "    <tr style=\"text-align: right;\">\n",
       "      <th></th>\n",
       "      <th>id</th>\n",
       "      <th>key</th>\n",
       "      <th>value</th>\n",
       "      <th>type</th>\n",
       "    </tr>\n",
       "  </thead>\n",
       "  <tbody>\n",
       "    <tr>\n",
       "      <th>5510</th>\n",
       "      <td>600243400</td>\n",
       "      <td>phone</td>\n",
       "      <td>+86 10 6582 2892</td>\n",
       "      <td>regular</td>\n",
       "    </tr>\n",
       "    <tr>\n",
       "      <th>5560</th>\n",
       "      <td>600265656</td>\n",
       "      <td>phone</td>\n",
       "      <td>(010)64629112</td>\n",
       "      <td>regular</td>\n",
       "    </tr>\n",
       "    <tr>\n",
       "      <th>7709</th>\n",
       "      <td>984102277</td>\n",
       "      <td>phone</td>\n",
       "      <td>01051696505</td>\n",
       "      <td>regular</td>\n",
       "    </tr>\n",
       "    <tr>\n",
       "      <th>9909</th>\n",
       "      <td>1249791909</td>\n",
       "      <td>phone</td>\n",
       "      <td>+86-10-60712288</td>\n",
       "      <td>regular</td>\n",
       "    </tr>\n",
       "    <tr>\n",
       "      <th>14371</th>\n",
       "      <td>1422005598</td>\n",
       "      <td>phone</td>\n",
       "      <td>68716285;62555813</td>\n",
       "      <td>regular</td>\n",
       "    </tr>\n",
       "  </tbody>\n",
       "</table>\n",
       "</div>"
      ],
      "text/plain": [
       "               id    key              value     type\n",
       "5510    600243400  phone   +86 10 6582 2892  regular\n",
       "5560    600265656  phone      (010)64629112  regular\n",
       "7709    984102277  phone        01051696505  regular\n",
       "9909   1249791909  phone    +86-10-60712288  regular\n",
       "14371  1422005598  phone  68716285;62555813  regular"
      ]
     },
     "execution_count": 6,
     "metadata": {},
     "output_type": "execute_result"
    }
   ],
   "source": [
    "node_tag[node_tag.key=='phone'].head()"
   ]
  },
  {
   "cell_type": "markdown",
   "metadata": {},
   "source": [
    "这里我们规定统一的电话格式为：“国家编号（+86） + [区号（10）] + 号码”，对于手机号、400电话，则不需要使用区号。以下列出了 clean.py 代码中关于手机号码清洗的主要函数，分别对固定电话、手机电话和400电话进行了格式统一。"
   ]
  },
  {
   "cell_type": "code",
   "execution_count": 7,
   "metadata": {
    "collapsed": true
   },
   "outputs": [],
   "source": [
    "def style_phone_number(phone_value):\n",
    "    '''将不符合标准格式的电话号码转换成标准格式。\n",
    "    标准格式定义成：国家编号 + [区号] + 号码。'''\n",
    "\n",
    "    # 去除非数字的字符\n",
    "    digit_value = ''\n",
    "    for char in phone_value:\n",
    "        if char.isdigit():\n",
    "            digit_value += char\n",
    "    \n",
    "    # 定义一些可能出现的号码格式\n",
    "    # 以下列表中每一个元素都是数据中出现的号码格式，元组的第一个元素代表打头的数字，第二个元素代表位数\n",
    "    phone_style = [('8610',12), ('86010', 13), ('008610', 14), ('010', 11), \n",
    "                    ('10', 10), ('86', 10), ('', 8) ]\n",
    "    mobile_style = [('86', 13), ('0086', 15), ('', 11)]\n",
    "    special_style = [('86400', 12), ('400', 10)]\n",
    "        \n",
    "    # 按固定电话、移动电话、400电话三种形式分别进行电话号码格式的标准化    \n",
    "    if (digit_value[:-8], len(digit_value)) in phone_style:\n",
    "        styled_value = '+86 10 ' + digit_value[-8:]\n",
    "    elif ((digit_value[:-11], len(digit_value)) in mobile_style) \\\n",
    "            and is_mobile_phone(digit_value[-11:]):\n",
    "        styled_value = '+86 ' + digit_value[-11:]\n",
    "    elif (digit_value[:-7], len(digit_value)) in special_style:\n",
    "        styled_value = '+86 ' + digit_value[-10:]\n",
    "    else: \n",
    "        styled_value = digit_value\n",
    "\n",
    "    return styled_value\n"
   ]
  },
  {
   "cell_type": "markdown",
   "metadata": {},
   "source": [
    "运行`clean.process_phone()`函数，用于清洗 node_tag 数据中的电话号码，其返回的结果是被丢弃的不正确的电话号码，除此之外其他号码都被标准格式替代。"
   ]
  },
  {
   "cell_type": "code",
   "execution_count": 8,
   "metadata": {},
   "outputs": [
    {
     "data": {
      "text/plain": [
       "['010670666611',\n",
       " '03126550752',\n",
       " '861013717888828',\n",
       " '0106765514',\n",
       " '86861064376299']"
      ]
     },
     "execution_count": 8,
     "metadata": {},
     "output_type": "execute_result"
    }
   ],
   "source": [
    "clean.process_phone(node_tag)"
   ]
  },
  {
   "cell_type": "markdown",
   "metadata": {},
   "source": [
    "为了检查清洗的效果，我们再次重新查看之前给出的电话号码时，发现他们都被统一成了标准格式。"
   ]
  },
  {
   "cell_type": "code",
   "execution_count": 9,
   "metadata": {},
   "outputs": [
    {
     "data": {
      "text/html": [
       "<div>\n",
       "<style>\n",
       "    .dataframe thead tr:only-child th {\n",
       "        text-align: right;\n",
       "    }\n",
       "\n",
       "    .dataframe thead th {\n",
       "        text-align: left;\n",
       "    }\n",
       "\n",
       "    .dataframe tbody tr th {\n",
       "        vertical-align: top;\n",
       "    }\n",
       "</style>\n",
       "<table border=\"1\" class=\"dataframe\">\n",
       "  <thead>\n",
       "    <tr style=\"text-align: right;\">\n",
       "      <th></th>\n",
       "      <th>id</th>\n",
       "      <th>key</th>\n",
       "      <th>value</th>\n",
       "      <th>type</th>\n",
       "    </tr>\n",
       "  </thead>\n",
       "  <tbody>\n",
       "    <tr>\n",
       "      <th>5510</th>\n",
       "      <td>600243400</td>\n",
       "      <td>phone</td>\n",
       "      <td>+86 10 65822892</td>\n",
       "      <td>regular</td>\n",
       "    </tr>\n",
       "    <tr>\n",
       "      <th>5560</th>\n",
       "      <td>600265656</td>\n",
       "      <td>phone</td>\n",
       "      <td>+86 10 64629112</td>\n",
       "      <td>regular</td>\n",
       "    </tr>\n",
       "    <tr>\n",
       "      <th>7709</th>\n",
       "      <td>984102277</td>\n",
       "      <td>phone</td>\n",
       "      <td>+86 10 51696505</td>\n",
       "      <td>regular</td>\n",
       "    </tr>\n",
       "    <tr>\n",
       "      <th>9909</th>\n",
       "      <td>1249791909</td>\n",
       "      <td>phone</td>\n",
       "      <td>+86 10 60712288</td>\n",
       "      <td>regular</td>\n",
       "    </tr>\n",
       "    <tr>\n",
       "      <th>14371</th>\n",
       "      <td>1422005598</td>\n",
       "      <td>phone</td>\n",
       "      <td>+86 10 68716285;+86 10 62555813</td>\n",
       "      <td>regular</td>\n",
       "    </tr>\n",
       "  </tbody>\n",
       "</table>\n",
       "</div>"
      ],
      "text/plain": [
       "               id    key                            value     type\n",
       "5510    600243400  phone                  +86 10 65822892  regular\n",
       "5560    600265656  phone                  +86 10 64629112  regular\n",
       "7709    984102277  phone                  +86 10 51696505  regular\n",
       "9909   1249791909  phone                  +86 10 60712288  regular\n",
       "14371  1422005598  phone  +86 10 68716285;+86 10 62555813  regular"
      ]
     },
     "execution_count": 9,
     "metadata": {},
     "output_type": "execute_result"
    }
   ],
   "source": [
    "node_tag[node_tag.key=='phone'].head()"
   ]
  },
  {
   "cell_type": "markdown",
   "metadata": {},
   "source": [
    "我们发现途径数据中也存在部分电话信息，所以也需要对 way_tag 数据中的电话号码进行同样的操作。返回结果为空，表示所有的号码都被标准化了，且没有无法被标准化的数据。"
   ]
  },
  {
   "cell_type": "code",
   "execution_count": 10,
   "metadata": {},
   "outputs": [
    {
     "data": {
      "text/plain": [
       "[]"
      ]
     },
     "execution_count": 10,
     "metadata": {},
     "output_type": "execute_result"
    }
   ],
   "source": [
    "clean.process_phone(way_tag)"
   ]
  },
  {
   "cell_type": "markdown",
   "metadata": {},
   "source": [
    "### 清洗邮政编码"
   ]
  },
  {
   "cell_type": "markdown",
   "metadata": {},
   "source": [
    "北京的邮编都是由6位数字组成，并且以100、101、102开头。我们需要将不符合这一条件的数据找出来，并将这些错误的邮编从数据中删除。\n",
    "\n",
    "首先来观察若干邮政编码的值，下方列出的都是符合标准的邮编。"
   ]
  },
  {
   "cell_type": "code",
   "execution_count": 11,
   "metadata": {},
   "outputs": [
    {
     "data": {
      "text/html": [
       "<div>\n",
       "<style>\n",
       "    .dataframe thead tr:only-child th {\n",
       "        text-align: right;\n",
       "    }\n",
       "\n",
       "    .dataframe thead th {\n",
       "        text-align: left;\n",
       "    }\n",
       "\n",
       "    .dataframe tbody tr th {\n",
       "        vertical-align: top;\n",
       "    }\n",
       "</style>\n",
       "<table border=\"1\" class=\"dataframe\">\n",
       "  <thead>\n",
       "    <tr style=\"text-align: right;\">\n",
       "      <th></th>\n",
       "      <th>id</th>\n",
       "      <th>key</th>\n",
       "      <th>value</th>\n",
       "      <th>type</th>\n",
       "    </tr>\n",
       "  </thead>\n",
       "  <tbody>\n",
       "    <tr>\n",
       "      <th>5568</th>\n",
       "      <td>600265656</td>\n",
       "      <td>postcode</td>\n",
       "      <td>100027</td>\n",
       "      <td>addr</td>\n",
       "    </tr>\n",
       "    <tr>\n",
       "      <th>7497</th>\n",
       "      <td>973340625</td>\n",
       "      <td>postcode</td>\n",
       "      <td>100875</td>\n",
       "      <td>addr</td>\n",
       "    </tr>\n",
       "    <tr>\n",
       "      <th>7716</th>\n",
       "      <td>984102277</td>\n",
       "      <td>postcode</td>\n",
       "      <td>100061</td>\n",
       "      <td>addr</td>\n",
       "    </tr>\n",
       "    <tr>\n",
       "      <th>9292</th>\n",
       "      <td>1104307346</td>\n",
       "      <td>postcode</td>\n",
       "      <td>100101</td>\n",
       "      <td>addr</td>\n",
       "    </tr>\n",
       "    <tr>\n",
       "      <th>11156</th>\n",
       "      <td>1327095475</td>\n",
       "      <td>postcode</td>\n",
       "      <td>100015</td>\n",
       "      <td>addr</td>\n",
       "    </tr>\n",
       "  </tbody>\n",
       "</table>\n",
       "</div>"
      ],
      "text/plain": [
       "               id       key   value  type\n",
       "5568    600265656  postcode  100027  addr\n",
       "7497    973340625  postcode  100875  addr\n",
       "7716    984102277  postcode  100061  addr\n",
       "9292   1104307346  postcode  100101  addr\n",
       "11156  1327095475  postcode  100015  addr"
      ]
     },
     "execution_count": 11,
     "metadata": {},
     "output_type": "execute_result"
    }
   ],
   "source": [
    "node_tag[node_tag.key=='postcode'].head()"
   ]
  },
  {
   "cell_type": "markdown",
   "metadata": {},
   "source": [
    "也有不符合标准的邮编在数据中出现，比如下面这条数据，不满足6位数字。"
   ]
  },
  {
   "cell_type": "code",
   "execution_count": 12,
   "metadata": {},
   "outputs": [
    {
     "data": {
      "text/html": [
       "<div>\n",
       "<style>\n",
       "    .dataframe thead tr:only-child th {\n",
       "        text-align: right;\n",
       "    }\n",
       "\n",
       "    .dataframe thead th {\n",
       "        text-align: left;\n",
       "    }\n",
       "\n",
       "    .dataframe tbody tr th {\n",
       "        vertical-align: top;\n",
       "    }\n",
       "</style>\n",
       "<table border=\"1\" class=\"dataframe\">\n",
       "  <thead>\n",
       "    <tr style=\"text-align: right;\">\n",
       "      <th></th>\n",
       "      <th>id</th>\n",
       "      <th>key</th>\n",
       "      <th>value</th>\n",
       "      <th>type</th>\n",
       "    </tr>\n",
       "  </thead>\n",
       "  <tbody>\n",
       "    <tr>\n",
       "      <th>64506</th>\n",
       "      <td>3470737818</td>\n",
       "      <td>postcode</td>\n",
       "      <td>3208</td>\n",
       "      <td>addr</td>\n",
       "    </tr>\n",
       "  </tbody>\n",
       "</table>\n",
       "</div>"
      ],
      "text/plain": [
       "               id       key value  type\n",
       "64506  3470737818  postcode  3208  addr"
      ]
     },
     "execution_count": 12,
     "metadata": {},
     "output_type": "execute_result"
    }
   ],
   "source": [
    "node_tag.loc[[64506]]"
   ]
  },
  {
   "cell_type": "markdown",
   "metadata": {},
   "source": [
    "以下是 clean.py 清洗代码中关于邮编的处理函数，我们将不符合北京地区邮编格式的数据删除。"
   ]
  },
  {
   "cell_type": "code",
   "execution_count": 13,
   "metadata": {
    "collapsed": true
   },
   "outputs": [],
   "source": [
    "def process_postcode(df):\n",
    "    '''清洗数据中的邮政编码。\n",
    "    返回值是被丢弃的错误的邮编。 '''\n",
    "\n",
    "    wrong_list = []\n",
    "    # 定义邮编的正则表达式，北京地区邮编以100、101、102开头，共6位数字\n",
    "    postcode_parttern = r'^10[0-2]\\d{3}$'\n",
    "    \n",
    "    # 判断邮编是否符合以上定义的正则表达式，不符合则从数据中删除\n",
    "    for index, row in df[df.key=='postcode'].iterrows():\n",
    "        code = row['value']\n",
    "        if not re.fullmatch(postcode_parttern, code):\n",
    "            wrong_list.append(code)\n",
    "            df.drop(index, inplace=True)\n",
    "            \n",
    "    return wrong_list  "
   ]
  },
  {
   "cell_type": "markdown",
   "metadata": {},
   "source": [
    "使用 `clean.process_postcode()` 函数分别对 node_tag 和 way_tag 数据进行邮编清洗，返回的结果是不符合标准的邮编，它们会被删除。"
   ]
  },
  {
   "cell_type": "code",
   "execution_count": 14,
   "metadata": {},
   "outputs": [
    {
     "data": {
      "text/plain": [
       "['3208', '110101', '110023', '053600']"
      ]
     },
     "execution_count": 14,
     "metadata": {},
     "output_type": "execute_result"
    }
   ],
   "source": [
    "clean.process_postcode(node_tag)"
   ]
  },
  {
   "cell_type": "code",
   "execution_count": 15,
   "metadata": {},
   "outputs": [
    {
     "data": {
      "text/plain": [
       "['010-62332281', '10080', '10040', '10043']"
      ]
     },
     "execution_count": 15,
     "metadata": {},
     "output_type": "execute_result"
    }
   ],
   "source": [
    "clean.process_postcode(way_tag)"
   ]
  },
  {
   "cell_type": "markdown",
   "metadata": {},
   "source": [
    "### 清洗营业时间数据"
   ]
  },
  {
   "cell_type": "markdown",
   "metadata": {},
   "source": [
    "首先还是来观察营业时间相应的数据。"
   ]
  },
  {
   "cell_type": "code",
   "execution_count": 16,
   "metadata": {},
   "outputs": [
    {
     "data": {
      "text/html": [
       "<div>\n",
       "<style>\n",
       "    .dataframe thead tr:only-child th {\n",
       "        text-align: right;\n",
       "    }\n",
       "\n",
       "    .dataframe thead th {\n",
       "        text-align: left;\n",
       "    }\n",
       "\n",
       "    .dataframe tbody tr th {\n",
       "        vertical-align: top;\n",
       "    }\n",
       "</style>\n",
       "<table border=\"1\" class=\"dataframe\">\n",
       "  <thead>\n",
       "    <tr style=\"text-align: right;\">\n",
       "      <th></th>\n",
       "      <th>id</th>\n",
       "      <th>key</th>\n",
       "      <th>value</th>\n",
       "      <th>type</th>\n",
       "    </tr>\n",
       "  </thead>\n",
       "  <tbody>\n",
       "    <tr>\n",
       "      <th>1323</th>\n",
       "      <td>269700902</td>\n",
       "      <td>opening_hours</td>\n",
       "      <td>Mo-Su 09:00-17:00</td>\n",
       "      <td>regular</td>\n",
       "    </tr>\n",
       "    <tr>\n",
       "      <th>1995</th>\n",
       "      <td>290599918</td>\n",
       "      <td>opening_hours</td>\n",
       "      <td>Mo-Su 05:00-24:00</td>\n",
       "      <td>regular</td>\n",
       "    </tr>\n",
       "    <tr>\n",
       "      <th>5498</th>\n",
       "      <td>600238274</td>\n",
       "      <td>opening_hours</td>\n",
       "      <td>24/7</td>\n",
       "      <td>regular</td>\n",
       "    </tr>\n",
       "    <tr>\n",
       "      <th>5518</th>\n",
       "      <td>600243400</td>\n",
       "      <td>opening_hours</td>\n",
       "      <td>11:00-22:00</td>\n",
       "      <td>regular</td>\n",
       "    </tr>\n",
       "    <tr>\n",
       "      <th>7266</th>\n",
       "      <td>854692925</td>\n",
       "      <td>opening_hours</td>\n",
       "      <td>24/7</td>\n",
       "      <td>regular</td>\n",
       "    </tr>\n",
       "  </tbody>\n",
       "</table>\n",
       "</div>"
      ],
      "text/plain": [
       "             id            key              value     type\n",
       "1323  269700902  opening_hours  Mo-Su 09:00-17:00  regular\n",
       "1995  290599918  opening_hours  Mo-Su 05:00-24:00  regular\n",
       "5498  600238274  opening_hours               24/7  regular\n",
       "5518  600243400  opening_hours        11:00-22:00  regular\n",
       "7266  854692925  opening_hours               24/7  regular"
      ]
     },
     "execution_count": 16,
     "metadata": {},
     "output_type": "execute_result"
    }
   ],
   "source": [
    "node_tag[node_tag.key=='opening_hours'].head()"
   ]
  },
  {
   "cell_type": "markdown",
   "metadata": {},
   "source": [
    "营业时间数据相对比较杂乱，这里根据可获得时间信息的丰富程度，将营业时间统一成以月份、星期、小时排列的形式，具体参见 `clean.is_hour()` 函数中给出的十种时间格式。该函数用于判断营业时间是否符合我们定义的格式，如果不符合，需要对时间进行格式统一。由于时间数据的情况比较复杂多样，具体清洗的代码可参见 clean.py 文件中的营业时间清洗部分。"
   ]
  },
  {
   "cell_type": "code",
   "execution_count": 17,
   "metadata": {
    "collapsed": true
   },
   "outputs": [],
   "source": [
    "def is_hour(value): \n",
    "    '''判断营业时间是否满足统一的格式'''\n",
    "\n",
    "    # 关于小时、星期、月份的正则表达式\n",
    "    h = '\\d{1,2}:\\d{1,2}'  \n",
    "    w = '(Mo|Tu|We|Th|Fr|Sa|Su)'\n",
    "    m = '(Jan|Feb|Mar|Apr|May|Jun|Jul|Aug|Sep|Oct|Nov|Dec)'\n",
    "    md = m +' \\d{1,2}'\n",
    "    \n",
    "    # 定义了营业时间的统一格式，共有10中形式\n",
    "    p0 = '24/7'                    # 表示7天24小时都营业\n",
    "    p1 = h + '-' + h               # e.g. 06:00-23:00\n",
    "    p2 = w + '-' + w + ' ' + p1    # e.g. Mo-Su 06:00-23:00\n",
    "    p3 = w + ' ' + p1              # e.g. Sat 09:30-22:00\n",
    "    p4 = m + '-' + m + ' ' + p2    # e.g. Apr-Oct Mo-Su 05:00-24:00\n",
    "    p5 = md + '-' + md + ' ' + p1  # e.g. Apr 1-Oct 31 05:00-24:00\n",
    "    p6 = p2 + ', ' + p1            # e.g. Su-Fr 08:30-11:30, 13:30-17:00\n",
    "    p7 = p1 + ', ' + p1            # e.g. 08:30-11:30, 13:30-17:00\n",
    "    p8 = m + '-' + m + ' ' + p1    # e.g. Apr-Oct 08:00-17:00\n",
    "    p9 = p1 + ',' + p1\n",
    "\n",
    "    # 判断数据是否满足以上给出的统一格式，是则返回True，否则返回False\n",
    "    if  (re.fullmatch(p1, value) \\\n",
    "        or re.fullmatch(p2, value) \\\n",
    "        or re.fullmatch(p3, value) \\\n",
    "        or re.fullmatch(p4, value) \\\n",
    "        or re.fullmatch(p5, value) \\\n",
    "        or re.fullmatch(p6, value) \\\n",
    "        or re.fullmatch(p7, value) \\\n",
    "        or re.fullmatch(p8, value) \\\n",
    "        or re.fullmatch(p9, value) \\\n",
    "        or value == p0):\n",
    "        return True\n",
    "    else:\n",
    "        return False"
   ]
  },
  {
   "cell_type": "markdown",
   "metadata": {},
   "source": [
    "这里先使用 `clean.find_mess_hour()` 函数找出 node_tag 数据中不符合要求的时间数据。"
   ]
  },
  {
   "cell_type": "code",
   "execution_count": 18,
   "metadata": {},
   "outputs": [
    {
     "name": "stdout",
     "output_type": "stream",
     "text": [
      "Mo-Fr 10:00-22:00 Sat 09:30-22:00 Sun 09:30-22:00\n",
      "9am-11pm\n",
      "2013\n",
      "24小时\n",
      "+8\n",
      "10：00-24：00\n",
      "Jan-Dec: Mo-Su 11:00-23:00\n",
      "高碑店街道便民服务中心\n",
      "Jan-Dec: Mo-Su 10:30-20:30\n",
      "ALL\n",
      "9:00am to 2:00am\n",
      "10am - 11pm\n",
      "10am - 9pm\n",
      "Mon-Sun 10.00-24.00\n",
      "18:00 - 22:00\n",
      "Mo-Fr 06:00-10:00 am\n",
      "24/24\n",
      "24小时\n",
      "24h\n",
      "9:00 - 22:00\n",
      "11:00~21:00\n",
      "17-02\n",
      "9:00~22:00\n",
      "9:30~24:00\n",
      "24h\n",
      "10:00~22:00\n",
      "9:30~21:30\n"
     ]
    }
   ],
   "source": [
    "wrong_index, wrong_hour = clean.find_mess_hour(node_tag)\n",
    "for h in wrong_hour:\n",
    "    print(h)"
   ]
  },
  {
   "cell_type": "markdown",
   "metadata": {},
   "source": [
    "然后再使用 `clean.process_opening_hours()` 函数处理 node_tag 数据中的时间格式。返回值是不能被统一的时间格式，它们被认为是不正确或者没有意义的营业时间信息，将被丢弃。"
   ]
  },
  {
   "cell_type": "code",
   "execution_count": 19,
   "metadata": {},
   "outputs": [
    {
     "name": "stdout",
     "output_type": "stream",
     "text": [
      "2013\n",
      "+8\n",
      "高碑店街道便民服务中心\n",
      "17-02\n"
     ]
    }
   ],
   "source": [
    "wrong_hour = clean.process_opening_hours(node_tag)\n",
    "for h in wrong_hour:\n",
    "    print(h)"
   ]
  },
  {
   "cell_type": "markdown",
   "metadata": {},
   "source": [
    "为了验证清洗的效果，我们再次运行 `clean.find_mess_hour()` 函数，其返回值是空，说明时间数据都已经被统一成规定格式了。"
   ]
  },
  {
   "cell_type": "code",
   "execution_count": 20,
   "metadata": {},
   "outputs": [
    {
     "name": "stdout",
     "output_type": "stream",
     "text": [
      "[]\n"
     ]
    }
   ],
   "source": [
    "wrong_index, wrong_hour = clean.find_mess_hour(node_tag)\n",
    "print(wrong_hour)"
   ]
  },
  {
   "cell_type": "markdown",
   "metadata": {},
   "source": [
    "同样，我们对 way_tag 数据中的营业时间也采用相同的处理方法。首先列出需要处理的数据。"
   ]
  },
  {
   "cell_type": "code",
   "execution_count": 21,
   "metadata": {},
   "outputs": [
    {
     "name": "stdout",
     "output_type": "stream",
     "text": [
      "10am-10pm\n",
      "11:00~12:00,17:00~19:00\n",
      "举办日期: 2014年10月31日到11月20日  圆顶建筑开放时间: 09:30到20:30  室外放映时间: 19:00到21:00\n",
      "不确定\n",
      "08.30AM-05.30PM\n"
     ]
    }
   ],
   "source": [
    "wrong_index, wrong_hour = clean.find_mess_hour(way_tag)\n",
    "for h in wrong_hour:\n",
    "    print(h)"
   ]
  },
  {
   "cell_type": "markdown",
   "metadata": {},
   "source": [
    "经处理后，以下是不能被统一的数据。（下方的第一条数据虽然有完整的时间，但由于其格式过于特殊，没有可复用性，不值得单独编写相应的代码来处理。）"
   ]
  },
  {
   "cell_type": "code",
   "execution_count": 22,
   "metadata": {},
   "outputs": [
    {
     "name": "stdout",
     "output_type": "stream",
     "text": [
      "举办日期 2014年10月31日到11月20日  圆顶建筑开放时间: 09:30到20:30  室外放映时间: 19:00到21:00\n",
      "不确定\n"
     ]
    }
   ],
   "source": [
    "wrong_hour = clean.process_opening_hours(way_tag)\n",
    "for h in wrong_hour:\n",
    "    print(h)"
   ]
  },
  {
   "cell_type": "markdown",
   "metadata": {},
   "source": [
    "### 清洗门牌号码"
   ]
  },
  {
   "cell_type": "markdown",
   "metadata": {},
   "source": [
    "首先，我们来查看若干条门牌号码的数据。顾名思义，门牌号需要包含数字才算正确，下方最后一条数据“奥北南区”显然不是门牌号，需要被清除出去。"
   ]
  },
  {
   "cell_type": "code",
   "execution_count": 23,
   "metadata": {},
   "outputs": [
    {
     "data": {
      "text/html": [
       "<div>\n",
       "<style>\n",
       "    .dataframe thead tr:only-child th {\n",
       "        text-align: right;\n",
       "    }\n",
       "\n",
       "    .dataframe thead th {\n",
       "        text-align: left;\n",
       "    }\n",
       "\n",
       "    .dataframe tbody tr th {\n",
       "        vertical-align: top;\n",
       "    }\n",
       "</style>\n",
       "<table border=\"1\" class=\"dataframe\">\n",
       "  <thead>\n",
       "    <tr style=\"text-align: right;\">\n",
       "      <th></th>\n",
       "      <th>id</th>\n",
       "      <th>key</th>\n",
       "      <th>value</th>\n",
       "      <th>type</th>\n",
       "    </tr>\n",
       "  </thead>\n",
       "  <tbody>\n",
       "    <tr>\n",
       "      <th>2435</th>\n",
       "      <td>292592805</td>\n",
       "      <td>housenumber</td>\n",
       "      <td>37</td>\n",
       "      <td>addr</td>\n",
       "    </tr>\n",
       "    <tr>\n",
       "      <th>4021</th>\n",
       "      <td>368122502</td>\n",
       "      <td>housenumber</td>\n",
       "      <td>30</td>\n",
       "      <td>addr</td>\n",
       "    </tr>\n",
       "    <tr>\n",
       "      <th>5520</th>\n",
       "      <td>600243400</td>\n",
       "      <td>housenumber</td>\n",
       "      <td>3号楼</td>\n",
       "      <td>addr</td>\n",
       "    </tr>\n",
       "    <tr>\n",
       "      <th>5569</th>\n",
       "      <td>600265656</td>\n",
       "      <td>housenumber</td>\n",
       "      <td>16</td>\n",
       "      <td>addr</td>\n",
       "    </tr>\n",
       "    <tr>\n",
       "      <th>6942</th>\n",
       "      <td>734834942</td>\n",
       "      <td>housenumber</td>\n",
       "      <td>奥北南区</td>\n",
       "      <td>addr</td>\n",
       "    </tr>\n",
       "  </tbody>\n",
       "</table>\n",
       "</div>"
      ],
      "text/plain": [
       "             id          key value  type\n",
       "2435  292592805  housenumber    37  addr\n",
       "4021  368122502  housenumber    30  addr\n",
       "5520  600243400  housenumber   3号楼  addr\n",
       "5569  600265656  housenumber    16  addr\n",
       "6942  734834942  housenumber  奥北南区  addr"
      ]
     },
     "execution_count": 23,
     "metadata": {},
     "output_type": "execute_result"
    }
   ],
   "source": [
    "node_tag[node_tag.key=='housenumber'].head()"
   ]
  },
  {
   "cell_type": "markdown",
   "metadata": {},
   "source": [
    "我们将不包含数字的门牌号码数据认为是错误的信息，并将他们从整体数据中删除。clean.py 清洗代码中的 `process_house_number()` 函数就是用于处理这类错误门牌号的。"
   ]
  },
  {
   "cell_type": "code",
   "execution_count": 24,
   "metadata": {
    "collapsed": true
   },
   "outputs": [],
   "source": [
    "def process_house_number(df):\n",
    "    '''清洗数据中的门牌号码。\n",
    "    如果housenumber字段中不包含数字，则认为是错误的门牌，会被丢弃。'''\n",
    "\n",
    "    wrong_index = []\n",
    "    wrong_list = []\n",
    "    for index, row in df[df.key=='housenumber'].iterrows():\n",
    "        house = row['value']\n",
    "        if not re.search('\\d', house):  # 判断是否包含数字\n",
    "            wrong_index.append(index)\n",
    "            wrong_list.append(house)\n",
    "    \n",
    "    df.drop(wrong_index, inplace=True)   # 删除数据中错误的门牌号码\n",
    "    \n",
    "    return wrong_list"
   ]
  },
  {
   "cell_type": "markdown",
   "metadata": {},
   "source": [
    "我们使用 `clean.process_house_number()` 函数处理 node_tag、way_tag 数据中的门牌信息, 返回值是要被丢弃的错误数据。"
   ]
  },
  {
   "cell_type": "code",
   "execution_count": 25,
   "metadata": {},
   "outputs": [
    {
     "name": "stdout",
     "output_type": "stream",
     "text": [
      "奥北南区\n",
      "北京市朝阳区\n",
      "北京大学计算科学与技术系\n",
      "八门\n",
      "嘉园路\n",
      "home guanganmen\n",
      "北京中联华康科技有限公司\n"
     ]
    }
   ],
   "source": [
    "wrong_list = clean.process_house_number(node_tag)\n",
    "for w in wrong_list: \n",
    "    print(w)"
   ]
  },
  {
   "cell_type": "code",
   "execution_count": 26,
   "metadata": {},
   "outputs": [
    {
     "name": "stdout",
     "output_type": "stream",
     "text": [
      "school\n",
      "凯隆公寓\n",
      "西院\n",
      "西院\n",
      "百子湾南路\n",
      "鲁谷大街\n",
      "Westin Chaoyang\n"
     ]
    }
   ],
   "source": [
    "wrong_list = clean.process_house_number(way_tag)\n",
    "for w in wrong_list: \n",
    "    print(w)"
   ]
  },
  {
   "cell_type": "markdown",
   "metadata": {},
   "source": [
    "### 补充缺失的 name 属性值"
   ]
  },
  {
   "cell_type": "markdown",
   "metadata": {
    "collapsed": true
   },
   "source": [
    "在地图数据中，tag 属性 key=name 是某一 id 下对应的名称，而 key=zh 属性是其对应的中文名称。但是我们发现有这样一种情况存在，在同一 id 下，存在 zh 属性，却不存在 name 属性，我们称这样的情况为 name 属性值的缺失。在这时，我们可以用 zh 属性的值来补充缺失的 name 属性值。\n",
    "\n",
    "下面给出了一个缺失 name 属性值的例子。"
   ]
  },
  {
   "cell_type": "code",
   "execution_count": 27,
   "metadata": {},
   "outputs": [
    {
     "name": "stdout",
     "output_type": "stream",
     "text": [
      "             id        key                    value     type\n",
      "1482  274748336    amenity                fast_food  regular\n",
      "1483  274748336    cuisine          american;burger  regular\n",
      "1484  274748336         en               McDonald's     name\n",
      "1485  274748336         zh                      麦当劳     name\n",
      "1486  274748336    website  http://mcdonalds.com.cn  regular\n",
      "1487  274748336     street                    甜水园餐厅     addr\n",
      "1488  274748336  zh_pinyin               Màidāngláo     name\n"
     ]
    }
   ],
   "source": [
    "groups = node_tag.groupby('id')\n",
    "for iid, group in groups:\n",
    "    if (not (group.key=='name').any()) and (group.key=='zh').any():\n",
    "        print(group)\n",
    "        break    "
   ]
  },
  {
   "cell_type": "markdown",
   "metadata": {
    "collapsed": true
   },
   "source": [
    "以下是 clean.py 清洗代码中进行 name 缺失属性值补充的函数 `process_name()`。"
   ]
  },
  {
   "cell_type": "code",
   "execution_count": 28,
   "metadata": {
    "collapsed": true
   },
   "outputs": [],
   "source": [
    "def process_name(df):\n",
    "    '''当同一id下，存在zh属性却不存在name属性时， 增加name属性值，其值等同于zh的值。'''\n",
    "\n",
    "    groups = df.groupby('id')   # 根据id将数据分组\n",
    "    \n",
    "    for iid, group in groups:\n",
    "        if (not (group.key=='name').any()) and (group.key=='zh').any():\n",
    "            name = group.loc[group.key=='zh', 'value']\n",
    "            new_row = pd.DataFrame({'id': iid, 'key': 'name', 'value':name, 'type': 'regular'})\n",
    "            df = df.append(new_row, ignore_index=True)\n",
    "    \n",
    "    return df"
   ]
  },
  {
   "cell_type": "markdown",
   "metadata": {},
   "source": [
    "调用 `clean.process_name()` 函数分别对 node_tag 和 way_tag 数据中缺失的 name 属性值进行补充。"
   ]
  },
  {
   "cell_type": "code",
   "execution_count": 29,
   "metadata": {
    "collapsed": true
   },
   "outputs": [],
   "source": [
    "node_tag = clean.process_name(node_tag)"
   ]
  },
  {
   "cell_type": "code",
   "execution_count": 30,
   "metadata": {
    "collapsed": true
   },
   "outputs": [],
   "source": [
    "way_tag = clean.process_name(way_tag)"
   ]
  },
  {
   "cell_type": "markdown",
   "metadata": {},
   "source": [
    "## 将清洗后的数据存储到SQL数据库"
   ]
  },
  {
   "cell_type": "markdown",
   "metadata": {},
   "source": [
    "在数据清洗工作完成以后，我们需要将地图数据导入到SQL数据库中，方便后续的查询和分析。\n",
    "\n",
    "首先，我们将上述清洗后的 DataFrame 格式数据分别存储到新的csv文件 nodes_tags_cleaned.csv 和 ways_tags_cleaned.csv 中。"
   ]
  },
  {
   "cell_type": "code",
   "execution_count": 31,
   "metadata": {
    "collapsed": true
   },
   "outputs": [],
   "source": [
    "node_tag.to_csv('nodes_tags_cleaned.csv', index=False)\n",
    "way_tag.to_csv('ways_tags_cleaned.csv', index=False)"
   ]
  },
  {
   "cell_type": "markdown",
   "metadata": {},
   "source": [
    "然后，我们将 csv 文件导入到 SQL 数据库中，这里使用的是 SQLite 数据库引擎。\n",
    "\n",
    "以下代码创建名为 openstreet 的数据库，并定义了关于节点和途径信息的五张数据表。"
   ]
  },
  {
   "cell_type": "code",
   "execution_count": 32,
   "metadata": {
    "collapsed": true
   },
   "outputs": [],
   "source": [
    "from sqlalchemy import create_engine, MetaData\n",
    "from sqlalchemy import Table, Column, String, Integer, Float \n",
    "\n",
    "# 创建数据库\n",
    "engine = create_engine(\"sqlite:///openstreet.sqlite\") \n",
    "metadata = MetaData()\n",
    "                       \n",
    "# 定义数据库表\n",
    "\n",
    "node_table = Table('nodes', metadata,\n",
    "                   Column('index', Integer, primary_key=True, autoincrement=True),\n",
    "                   Column('id', Integer),\n",
    "                   Column('lat', Float),\n",
    "                   Column('lon', Float),\n",
    "                   Column('user', String),\n",
    "                   Column('uid', Integer),\n",
    "                   Column('version', String),\n",
    "                   Column('changeset', Integer),\n",
    "                   Column('timestamp', String)\n",
    "                  )\n",
    "                          \n",
    "                       \n",
    "nodetag_table = Table('nodes_tags', metadata,\n",
    "                      Column('index', Integer, primary_key=True, autoincrement=True),\n",
    "                      Column('id', Integer),\n",
    "                      Column('key', String),\n",
    "                      Column('value', String),\n",
    "                      Column('type', String)\n",
    "                     )\n",
    "\n",
    "                          \n",
    "way_table = Table('ways', metadata,\n",
    "                   Column('index', Integer, primary_key=True, autoincrement=True),\n",
    "                   Column('id', Integer),\n",
    "                   Column('user', String),\n",
    "                   Column('uid', Integer),\n",
    "                   Column('version', String),\n",
    "                   Column('changeset', Integer),\n",
    "                   Column('timestamp', String)\n",
    "                 )                     \n",
    "                \n",
    "waynode_table = Table('ways_nodes', metadata,\n",
    "                      Column('index', Integer, primary_key=True, autoincrement=True),\n",
    "                      Column('id', Integer),\n",
    "                      Column('node_id', Integer),\n",
    "                      Column('position', Integer)\n",
    "                     )                          \n",
    "                          \n",
    "waytag_table = Table('ways_tags', metadata,\n",
    "                     Column('index', Integer, primary_key=True, autoincrement=True),\n",
    "                     Column('id', Integer),\n",
    "                     Column('key', String),\n",
    "                     Column('value', String),\n",
    "                     Column('type', String)\n",
    "                    )\n",
    "\n",
    "                                      \n",
    "# 创建数据表\n",
    "metadata.create_all(engine)\n",
    "\n"
   ]
  },
  {
   "cell_type": "markdown",
   "metadata": {},
   "source": [
    "下方定义的 `csv2db()` 函数，作用是将 csv 文件中的数据导入到数据库表中。"
   ]
  },
  {
   "cell_type": "code",
   "execution_count": 33,
   "metadata": {
    "collapsed": true
   },
   "outputs": [],
   "source": [
    "def csv2db(file, engine, table): \n",
    "    \n",
    "    from sqlalchemy import insert\n",
    "    \n",
    "    data = pd.read_csv(file, dtype=str)\n",
    "    data_list = list(data.apply(dict, axis=1))\n",
    "    \n",
    "    connection = engine.connect()\n",
    "    stmt = insert(table)\n",
    "    results = connection.execute(stmt, data_list)\n",
    "    connection.close()\n"
   ]
  },
  {
   "cell_type": "markdown",
   "metadata": {},
   "source": [
    "调用 `csv2db()` 函数，将5份关于节点和途径的csv文件数据导入到相应的数据表中。至此，地图数据导入数据库的工作完成。"
   ]
  },
  {
   "cell_type": "code",
   "execution_count": 34,
   "metadata": {
    "collapsed": true
   },
   "outputs": [],
   "source": [
    "csv2db('nodes.csv', engine, node_table)\n",
    "csv2db('nodes_tags_cleaned.csv', engine, nodetag_table)\n",
    "csv2db('ways.csv', engine, way_table)\n",
    "csv2db('ways_nodes.csv', engine, waynode_table)\n",
    "csv2db('ways_tags_cleaned.csv', engine, waytag_table)"
   ]
  },
  {
   "cell_type": "markdown",
   "metadata": {},
   "source": [
    "## 数据概述"
   ]
  },
  {
   "cell_type": "markdown",
   "metadata": {},
   "source": [
    "### 数据文件的大小\n",
    "通过调用Linux命令，我们可以查看原始数据，中间过程的csv文件，以及新建的数据库。原始数据 beijing_china.osm 文件有175M，数据库 openstreet.sqlite 大小为96M。"
   ]
  },
  {
   "cell_type": "code",
   "execution_count": 35,
   "metadata": {},
   "outputs": [
    {
     "name": "stdout",
     "output_type": "stream",
     "text": [
      "175M\tbeijing_china.osm\r\n",
      " 18M\tsample_beijing_china.osm\r\n",
      " 96M\topenstreet.sqlite\r\n",
      " 65M\tnodes.csv\r\n",
      "2.9M\tnodes_tags.csv\r\n",
      "2.8M\tnodes_tags_cleaned.csv\r\n",
      "6.9M\tways.csv\r\n",
      " 23M\tways_nodes.csv\r\n",
      "8.0M\tways_tags.csv\r\n",
      "7.8M\tways_tags_cleaned.csv\r\n"
     ]
    }
   ],
   "source": [
    "!du -h *.osm *.sqlite *.csv"
   ]
  },
  {
   "cell_type": "markdown",
   "metadata": {},
   "source": [
    "### 关于节点和途径的统计量\n",
    "\n",
    "#### 节点（nodes）的数量"
   ]
  },
  {
   "cell_type": "code",
   "execution_count": 36,
   "metadata": {},
   "outputs": [
    {
     "data": {
      "text/html": [
       "<div>\n",
       "<style>\n",
       "    .dataframe thead tr:only-child th {\n",
       "        text-align: right;\n",
       "    }\n",
       "\n",
       "    .dataframe thead th {\n",
       "        text-align: left;\n",
       "    }\n",
       "\n",
       "    .dataframe tbody tr th {\n",
       "        vertical-align: top;\n",
       "    }\n",
       "</style>\n",
       "<table border=\"1\" class=\"dataframe\">\n",
       "  <thead>\n",
       "    <tr style=\"text-align: right;\">\n",
       "      <th></th>\n",
       "      <th>COUNT(*)</th>\n",
       "    </tr>\n",
       "  </thead>\n",
       "  <tbody>\n",
       "    <tr>\n",
       "      <th>0</th>\n",
       "      <td>823210</td>\n",
       "    </tr>\n",
       "  </tbody>\n",
       "</table>\n",
       "</div>"
      ],
      "text/plain": [
       "   COUNT(*)\n",
       "0    823210"
      ]
     },
     "execution_count": 36,
     "metadata": {},
     "output_type": "execute_result"
    }
   ],
   "source": [
    "query = 'SELECT COUNT(*) FROM nodes'\n",
    "pd.read_sql_query(query, engine)"
   ]
  },
  {
   "cell_type": "markdown",
   "metadata": {},
   "source": [
    "####  旅馆的数量\n",
    "\n",
    "考虑特殊的节点，比如旅馆，在nodes_tags表中需要满足 key='tourism'以及value='hotel'。"
   ]
  },
  {
   "cell_type": "code",
   "execution_count": 37,
   "metadata": {},
   "outputs": [
    {
     "data": {
      "text/html": [
       "<div>\n",
       "<style>\n",
       "    .dataframe thead tr:only-child th {\n",
       "        text-align: right;\n",
       "    }\n",
       "\n",
       "    .dataframe thead th {\n",
       "        text-align: left;\n",
       "    }\n",
       "\n",
       "    .dataframe tbody tr th {\n",
       "        vertical-align: top;\n",
       "    }\n",
       "</style>\n",
       "<table border=\"1\" class=\"dataframe\">\n",
       "  <thead>\n",
       "    <tr style=\"text-align: right;\">\n",
       "      <th></th>\n",
       "      <th>COUNT(id)</th>\n",
       "    </tr>\n",
       "  </thead>\n",
       "  <tbody>\n",
       "    <tr>\n",
       "      <th>0</th>\n",
       "      <td>343</td>\n",
       "    </tr>\n",
       "  </tbody>\n",
       "</table>\n",
       "</div>"
      ],
      "text/plain": [
       "   COUNT(id)\n",
       "0        343"
      ]
     },
     "execution_count": 37,
     "metadata": {},
     "output_type": "execute_result"
    }
   ],
   "source": [
    "query = \"SELECT COUNT(id) FROM nodes_tags WHERE key='tourism' AND value='hotel'\"\n",
    "pd.read_sql_query(query, engine)"
   ]
  },
  {
   "cell_type": "markdown",
   "metadata": {},
   "source": [
    "####  途径（ways）的数量"
   ]
  },
  {
   "cell_type": "code",
   "execution_count": 38,
   "metadata": {},
   "outputs": [
    {
     "data": {
      "text/html": [
       "<div>\n",
       "<style>\n",
       "    .dataframe thead tr:only-child th {\n",
       "        text-align: right;\n",
       "    }\n",
       "\n",
       "    .dataframe thead th {\n",
       "        text-align: left;\n",
       "    }\n",
       "\n",
       "    .dataframe tbody tr th {\n",
       "        vertical-align: top;\n",
       "    }\n",
       "</style>\n",
       "<table border=\"1\" class=\"dataframe\">\n",
       "  <thead>\n",
       "    <tr style=\"text-align: right;\">\n",
       "      <th></th>\n",
       "      <th>COUNT(*)</th>\n",
       "    </tr>\n",
       "  </thead>\n",
       "  <tbody>\n",
       "    <tr>\n",
       "      <th>0</th>\n",
       "      <td>122904</td>\n",
       "    </tr>\n",
       "  </tbody>\n",
       "</table>\n",
       "</div>"
      ],
      "text/plain": [
       "   COUNT(*)\n",
       "0    122904"
      ]
     },
     "execution_count": 38,
     "metadata": {},
     "output_type": "execute_result"
    }
   ],
   "source": [
    "query = 'SELECT COUNT(*) FROM ways'\n",
    "pd.read_sql_query(query, engine)"
   ]
  },
  {
   "cell_type": "markdown",
   "metadata": {},
   "source": [
    "####  高架桥的数量\n",
    "\n",
    "考虑特殊的途径，比如高架桥，在wyas_tags表中需要满足条件key='bridge'和value='viaduct'。"
   ]
  },
  {
   "cell_type": "code",
   "execution_count": 39,
   "metadata": {},
   "outputs": [
    {
     "data": {
      "text/html": [
       "<div>\n",
       "<style>\n",
       "    .dataframe thead tr:only-child th {\n",
       "        text-align: right;\n",
       "    }\n",
       "\n",
       "    .dataframe thead th {\n",
       "        text-align: left;\n",
       "    }\n",
       "\n",
       "    .dataframe tbody tr th {\n",
       "        vertical-align: top;\n",
       "    }\n",
       "</style>\n",
       "<table border=\"1\" class=\"dataframe\">\n",
       "  <thead>\n",
       "    <tr style=\"text-align: right;\">\n",
       "      <th></th>\n",
       "      <th>count(id)</th>\n",
       "    </tr>\n",
       "  </thead>\n",
       "  <tbody>\n",
       "    <tr>\n",
       "      <th>0</th>\n",
       "      <td>165</td>\n",
       "    </tr>\n",
       "  </tbody>\n",
       "</table>\n",
       "</div>"
      ],
      "text/plain": [
       "   count(id)\n",
       "0        165"
      ]
     },
     "execution_count": 39,
     "metadata": {},
     "output_type": "execute_result"
    }
   ],
   "source": [
    "query = \"SELECT count(id) FROM ways_tags WHERE key='bridge' AND value='viaduct'\"\n",
    "pd.read_sql_query(query, engine)"
   ]
  },
  {
   "cell_type": "markdown",
   "metadata": {},
   "source": [
    "### 关于用户的统计量\n",
    "\n",
    "#### 唯一用户的数量\n",
    "\n",
    "这里需要同时统计nodes和ways这两张表。"
   ]
  },
  {
   "cell_type": "code",
   "execution_count": 40,
   "metadata": {},
   "outputs": [
    {
     "data": {
      "text/html": [
       "<div>\n",
       "<style>\n",
       "    .dataframe thead tr:only-child th {\n",
       "        text-align: right;\n",
       "    }\n",
       "\n",
       "    .dataframe thead th {\n",
       "        text-align: left;\n",
       "    }\n",
       "\n",
       "    .dataframe tbody tr th {\n",
       "        vertical-align: top;\n",
       "    }\n",
       "</style>\n",
       "<table border=\"1\" class=\"dataframe\">\n",
       "  <thead>\n",
       "    <tr style=\"text-align: right;\">\n",
       "      <th></th>\n",
       "      <th>COUNT(DISTINCT uid)</th>\n",
       "    </tr>\n",
       "  </thead>\n",
       "  <tbody>\n",
       "    <tr>\n",
       "      <th>0</th>\n",
       "      <td>1720</td>\n",
       "    </tr>\n",
       "  </tbody>\n",
       "</table>\n",
       "</div>"
      ],
      "text/plain": [
       "   COUNT(DISTINCT uid)\n",
       "0                 1720"
      ]
     },
     "execution_count": 40,
     "metadata": {},
     "output_type": "execute_result"
    }
   ],
   "source": [
    "query = '''SELECT COUNT(DISTINCT uid) \n",
    "FROM (SELECT uid FROM nodes UNION ALL SELECT uid FROM ways)'''\n",
    "pd.read_sql_query(query, engine)"
   ]
  },
  {
   "cell_type": "markdown",
   "metadata": {},
   "source": [
    "#### 贡献数据量前十的用户"
   ]
  },
  {
   "cell_type": "code",
   "execution_count": 41,
   "metadata": {},
   "outputs": [
    {
     "data": {
      "text/html": [
       "<div>\n",
       "<style>\n",
       "    .dataframe thead tr:only-child th {\n",
       "        text-align: right;\n",
       "    }\n",
       "\n",
       "    .dataframe thead th {\n",
       "        text-align: left;\n",
       "    }\n",
       "\n",
       "    .dataframe tbody tr th {\n",
       "        vertical-align: top;\n",
       "    }\n",
       "</style>\n",
       "<table border=\"1\" class=\"dataframe\">\n",
       "  <thead>\n",
       "    <tr style=\"text-align: right;\">\n",
       "      <th></th>\n",
       "      <th>user</th>\n",
       "      <th>num</th>\n",
       "    </tr>\n",
       "  </thead>\n",
       "  <tbody>\n",
       "    <tr>\n",
       "      <th>0</th>\n",
       "      <td>Chen Jia</td>\n",
       "      <td>213003</td>\n",
       "    </tr>\n",
       "    <tr>\n",
       "      <th>1</th>\n",
       "      <td>R438</td>\n",
       "      <td>143481</td>\n",
       "    </tr>\n",
       "    <tr>\n",
       "      <th>2</th>\n",
       "      <td>hanchao</td>\n",
       "      <td>66897</td>\n",
       "    </tr>\n",
       "    <tr>\n",
       "      <th>3</th>\n",
       "      <td>ij_</td>\n",
       "      <td>51905</td>\n",
       "    </tr>\n",
       "    <tr>\n",
       "      <th>4</th>\n",
       "      <td>Алекс Мок</td>\n",
       "      <td>47725</td>\n",
       "    </tr>\n",
       "    <tr>\n",
       "      <th>5</th>\n",
       "      <td>katpatuka</td>\n",
       "      <td>23621</td>\n",
       "    </tr>\n",
       "    <tr>\n",
       "      <th>6</th>\n",
       "      <td>m17design</td>\n",
       "      <td>21699</td>\n",
       "    </tr>\n",
       "    <tr>\n",
       "      <th>7</th>\n",
       "      <td>Esperanza36</td>\n",
       "      <td>18475</td>\n",
       "    </tr>\n",
       "    <tr>\n",
       "      <th>8</th>\n",
       "      <td>nuklearerWintersturm</td>\n",
       "      <td>16502</td>\n",
       "    </tr>\n",
       "    <tr>\n",
       "      <th>9</th>\n",
       "      <td>RationalTangle</td>\n",
       "      <td>13768</td>\n",
       "    </tr>\n",
       "  </tbody>\n",
       "</table>\n",
       "</div>"
      ],
      "text/plain": [
       "                   user     num\n",
       "0              Chen Jia  213003\n",
       "1                  R438  143481\n",
       "2               hanchao   66897\n",
       "3                   ij_   51905\n",
       "4             Алекс Мок   47725\n",
       "5             katpatuka   23621\n",
       "6             m17design   21699\n",
       "7           Esperanza36   18475\n",
       "8  nuklearerWintersturm   16502\n",
       "9        RationalTangle   13768"
      ]
     },
     "execution_count": 41,
     "metadata": {},
     "output_type": "execute_result"
    }
   ],
   "source": [
    "query = '''SELECT user, COUNT(user) AS num \n",
    "FROM (SELECT user FROM nodes UNION ALL SELECT user FROM ways) \n",
    "GROUP BY user \n",
    "ORDER BY num DESC \n",
    "LIMIT 10'''\n",
    "pd.read_sql_query(query, engine)"
   ]
  },
  {
   "cell_type": "markdown",
   "metadata": {},
   "source": [
    "### 信号灯最多的途径\n",
    "\n",
    "利用ways_nodes表可以将途径和节点关联起来，这样就可以知道每条途径上的节点情况，再联合查询nodes_tags表，就能筛选出每条途径上的特殊节点。这里将ways_nodes和nodes_tags这两张表通过ways_nodes.node_id=nodes_tags.id关联起来。\n",
    "\n",
    "下面查询的是信号灯最多的前10条途径。"
   ]
  },
  {
   "cell_type": "code",
   "execution_count": 42,
   "metadata": {},
   "outputs": [
    {
     "data": {
      "text/html": [
       "<div>\n",
       "<style>\n",
       "    .dataframe thead tr:only-child th {\n",
       "        text-align: right;\n",
       "    }\n",
       "\n",
       "    .dataframe thead th {\n",
       "        text-align: left;\n",
       "    }\n",
       "\n",
       "    .dataframe tbody tr th {\n",
       "        vertical-align: top;\n",
       "    }\n",
       "</style>\n",
       "<table border=\"1\" class=\"dataframe\">\n",
       "  <thead>\n",
       "    <tr style=\"text-align: right;\">\n",
       "      <th></th>\n",
       "      <th>id</th>\n",
       "      <th>sig_num</th>\n",
       "    </tr>\n",
       "  </thead>\n",
       "  <tbody>\n",
       "    <tr>\n",
       "      <th>0</th>\n",
       "      <td>251324796</td>\n",
       "      <td>23</td>\n",
       "    </tr>\n",
       "    <tr>\n",
       "      <th>1</th>\n",
       "      <td>237581600</td>\n",
       "      <td>22</td>\n",
       "    </tr>\n",
       "    <tr>\n",
       "      <th>2</th>\n",
       "      <td>145291213</td>\n",
       "      <td>21</td>\n",
       "    </tr>\n",
       "    <tr>\n",
       "      <th>3</th>\n",
       "      <td>145291215</td>\n",
       "      <td>21</td>\n",
       "    </tr>\n",
       "    <tr>\n",
       "      <th>4</th>\n",
       "      <td>159791637</td>\n",
       "      <td>21</td>\n",
       "    </tr>\n",
       "    <tr>\n",
       "      <th>5</th>\n",
       "      <td>127156384</td>\n",
       "      <td>19</td>\n",
       "    </tr>\n",
       "    <tr>\n",
       "      <th>6</th>\n",
       "      <td>187044296</td>\n",
       "      <td>18</td>\n",
       "    </tr>\n",
       "    <tr>\n",
       "      <th>7</th>\n",
       "      <td>187044304</td>\n",
       "      <td>18</td>\n",
       "    </tr>\n",
       "    <tr>\n",
       "      <th>8</th>\n",
       "      <td>31757284</td>\n",
       "      <td>17</td>\n",
       "    </tr>\n",
       "    <tr>\n",
       "      <th>9</th>\n",
       "      <td>154855573</td>\n",
       "      <td>17</td>\n",
       "    </tr>\n",
       "  </tbody>\n",
       "</table>\n",
       "</div>"
      ],
      "text/plain": [
       "          id  sig_num\n",
       "0  251324796       23\n",
       "1  237581600       22\n",
       "2  145291213       21\n",
       "3  145291215       21\n",
       "4  159791637       21\n",
       "5  127156384       19\n",
       "6  187044296       18\n",
       "7  187044304       18\n",
       "8   31757284       17\n",
       "9  154855573       17"
      ]
     },
     "execution_count": 42,
     "metadata": {},
     "output_type": "execute_result"
    }
   ],
   "source": [
    "query = '''SELECT ways_nodes.id, COUNT(ways_nodes.id) AS sig_num \n",
    "FROM ways_nodes JOIN nodes_tags ON ways_nodes.node_id=nodes_tags.id\n",
    "WHERE nodes_tags.value='traffic_signals'\n",
    "GROUP BY ways_nodes.id\n",
    "ORDER BY sig_num DESC\n",
    "LIMIT 10'''\n",
    "pd.read_sql_query(query, engine)"
   ]
  },
  {
   "cell_type": "markdown",
   "metadata": {},
   "source": [
    "以上给出的是途径id和该途径上的信号灯数量，如果想要同时知道该途径的具体名称，则还要联合ways_tags表来查询。这里将上面的查询结果作为一个新的表e，和ways_tags表进行联合查询。"
   ]
  },
  {
   "cell_type": "code",
   "execution_count": 43,
   "metadata": {},
   "outputs": [
    {
     "data": {
      "text/html": [
       "<div>\n",
       "<style>\n",
       "    .dataframe thead tr:only-child th {\n",
       "        text-align: right;\n",
       "    }\n",
       "\n",
       "    .dataframe thead th {\n",
       "        text-align: left;\n",
       "    }\n",
       "\n",
       "    .dataframe tbody tr th {\n",
       "        vertical-align: top;\n",
       "    }\n",
       "</style>\n",
       "<table border=\"1\" class=\"dataframe\">\n",
       "  <thead>\n",
       "    <tr style=\"text-align: right;\">\n",
       "      <th></th>\n",
       "      <th>id</th>\n",
       "      <th>value</th>\n",
       "      <th>sig_num</th>\n",
       "    </tr>\n",
       "  </thead>\n",
       "  <tbody>\n",
       "    <tr>\n",
       "      <th>0</th>\n",
       "      <td>251324796</td>\n",
       "      <td>北土城东路</td>\n",
       "      <td>23</td>\n",
       "    </tr>\n",
       "    <tr>\n",
       "      <th>1</th>\n",
       "      <td>237581600</td>\n",
       "      <td>北土城东路</td>\n",
       "      <td>22</td>\n",
       "    </tr>\n",
       "    <tr>\n",
       "      <th>2</th>\n",
       "      <td>145291213</td>\n",
       "      <td>大屯路</td>\n",
       "      <td>21</td>\n",
       "    </tr>\n",
       "    <tr>\n",
       "      <th>3</th>\n",
       "      <td>145291215</td>\n",
       "      <td>大屯路</td>\n",
       "      <td>21</td>\n",
       "    </tr>\n",
       "    <tr>\n",
       "      <th>4</th>\n",
       "      <td>159791637</td>\n",
       "      <td>北土城东路</td>\n",
       "      <td>21</td>\n",
       "    </tr>\n",
       "    <tr>\n",
       "      <th>5</th>\n",
       "      <td>127156384</td>\n",
       "      <td>朝阳路</td>\n",
       "      <td>19</td>\n",
       "    </tr>\n",
       "    <tr>\n",
       "      <th>6</th>\n",
       "      <td>187044296</td>\n",
       "      <td>朝阳路</td>\n",
       "      <td>18</td>\n",
       "    </tr>\n",
       "    <tr>\n",
       "      <th>7</th>\n",
       "      <td>187044304</td>\n",
       "      <td>朝阳路</td>\n",
       "      <td>18</td>\n",
       "    </tr>\n",
       "    <tr>\n",
       "      <th>8</th>\n",
       "      <td>31757284</td>\n",
       "      <td>朝阳路</td>\n",
       "      <td>17</td>\n",
       "    </tr>\n",
       "    <tr>\n",
       "      <th>9</th>\n",
       "      <td>154855573</td>\n",
       "      <td>石景山路</td>\n",
       "      <td>17</td>\n",
       "    </tr>\n",
       "  </tbody>\n",
       "</table>\n",
       "</div>"
      ],
      "text/plain": [
       "          id  value  sig_num\n",
       "0  251324796  北土城东路       23\n",
       "1  237581600  北土城东路       22\n",
       "2  145291213    大屯路       21\n",
       "3  145291215    大屯路       21\n",
       "4  159791637  北土城东路       21\n",
       "5  127156384    朝阳路       19\n",
       "6  187044296    朝阳路       18\n",
       "7  187044304    朝阳路       18\n",
       "8   31757284    朝阳路       17\n",
       "9  154855573   石景山路       17"
      ]
     },
     "execution_count": 43,
     "metadata": {},
     "output_type": "execute_result"
    }
   ],
   "source": [
    "query = '''SELECT ways_tags.id, ways_tags.value, e.sig_num\n",
    "FROM ways_tags JOIN \n",
    "(SELECT ways_nodes.id, COUNT(ways_nodes.id) AS sig_num \n",
    "FROM ways_nodes JOIN nodes_tags ON ways_nodes.node_id=nodes_tags.id\n",
    "WHERE nodes_tags.value='traffic_signals'\n",
    "GROUP BY ways_nodes.id\n",
    "ORDER BY sig_num DESC\n",
    "LIMIT 10) e\n",
    "ON ways_tags.id=e.id\n",
    "WHERE ways_tags.key='name'\n",
    "ORDER BY e.sig_num DESC\n",
    "'''\n",
    "pd.read_sql_query(query, engine)"
   ]
  },
  {
   "cell_type": "markdown",
   "metadata": {},
   "source": [
    "我们注意到结果中不同id的途径具有相同的名称（value）值，这大概是由于一条道路需要由多条途径（ways）组成。"
   ]
  },
  {
   "cell_type": "markdown",
   "metadata": {
    "collapsed": true
   },
   "source": [
    "## 关于数据集的其他想法"
   ]
  },
  {
   "cell_type": "markdown",
   "metadata": {},
   "source": [
    "### 数据标注的完整性讨论\n",
    "\n",
    "我们以节点（nodes）数据为例，通过下面的查询发现，总的节点数为823210个，而被标记（也就是具有tag属性）的节点数据只有40812个，占了不到总数的5%。可见，目前北京地区的地图信息还是不够全面丰富的，有待更进一步的补充和完善。\n",
    "\n",
    "完善地图数据的标注信息是一个非常有挑战性的问题，但同时也会提供更丰富的数据分析维度。如何增加数据的标注信息，这里给出若干个想法：\n",
    "* 由于OpenStreetMap是一个开放的可由大家共同编辑的地图数据集，所以需要增加大家贡献数据的积极性，让更多的人愿意参与进来，比如可以通过节点的重要性来设置奖励等级等一系列互动好玩的方法增强积极性。\n",
    "* 除了由人力众筹的方式贡献数据，还可以采用机器，从网络或其他途径采集相关的数据。\n",
    "* 当然，在增加标注信息的时候，也要注意数据的准确性，数据中可以增加数据可信度等级，当有更多人对这一信息认可时它的可信度等级就越高。"
   ]
  },
  {
   "cell_type": "code",
   "execution_count": 44,
   "metadata": {},
   "outputs": [
    {
     "data": {
      "text/plain": [
       "823210"
      ]
     },
     "execution_count": 44,
     "metadata": {},
     "output_type": "execute_result"
    }
   ],
   "source": [
    "# 总节点数\n",
    "query = 'SELECT COUNT(DISTINCT id) FROM nodes'\n",
    "nodes_num = pd.read_sql_query(query, engine).iloc[0,0]\n",
    "nodes_num"
   ]
  },
  {
   "cell_type": "code",
   "execution_count": 45,
   "metadata": {},
   "outputs": [
    {
     "data": {
      "text/plain": [
       "40812"
      ]
     },
     "execution_count": 45,
     "metadata": {},
     "output_type": "execute_result"
    }
   ],
   "source": [
    "# 被标注的节点数\n",
    "query = 'SELECT COUNT(DISTINCT id) FROM nodes_tags'\n",
    "taged_nodes_num = pd.read_sql_query(query, engine).iloc[0,0]\n",
    "taged_nodes_num"
   ]
  },
  {
   "cell_type": "code",
   "execution_count": 46,
   "metadata": {},
   "outputs": [
    {
     "data": {
      "text/plain": [
       "0.049576657232055003"
      ]
     },
     "execution_count": 46,
     "metadata": {},
     "output_type": "execute_result"
    }
   ],
   "source": [
    "# 标注节点数占总节点数的比例\n",
    "taged_nodes_num / nodes_num"
   ]
  },
  {
   "cell_type": "markdown",
   "metadata": {},
   "source": [
    "### 数据地理分布情况的讨论。\n",
    "\n",
    "这里我们来讨论节点数据在北京范围内的分布情况。首先我们需要找到北京中心的经纬度，并以此为中心将北京划分为东北、西北、东南、西南四个区域。然后查看每个区域内的节点数量。\n",
    "\n",
    "以下的查询是首先找到北京市的id，并通过该id查找北京所在的经纬度，并认为这就是北京中心地点的坐标。"
   ]
  },
  {
   "cell_type": "code",
   "execution_count": 47,
   "metadata": {},
   "outputs": [
    {
     "data": {
      "text/html": [
       "<div>\n",
       "<style>\n",
       "    .dataframe thead tr:only-child th {\n",
       "        text-align: right;\n",
       "    }\n",
       "\n",
       "    .dataframe thead th {\n",
       "        text-align: left;\n",
       "    }\n",
       "\n",
       "    .dataframe tbody tr th {\n",
       "        vertical-align: top;\n",
       "    }\n",
       "</style>\n",
       "<table border=\"1\" class=\"dataframe\">\n",
       "  <thead>\n",
       "    <tr style=\"text-align: right;\">\n",
       "      <th></th>\n",
       "      <th>index</th>\n",
       "      <th>id</th>\n",
       "      <th>key</th>\n",
       "      <th>value</th>\n",
       "      <th>type</th>\n",
       "    </tr>\n",
       "  </thead>\n",
       "  <tbody>\n",
       "    <tr>\n",
       "      <th>0</th>\n",
       "      <td>2</td>\n",
       "      <td>25248662</td>\n",
       "      <td>name</td>\n",
       "      <td>北京市</td>\n",
       "      <td>regular</td>\n",
       "    </tr>\n",
       "  </tbody>\n",
       "</table>\n",
       "</div>"
      ],
      "text/plain": [
       "   index        id   key value     type\n",
       "0      2  25248662  name   北京市  regular"
      ]
     },
     "execution_count": 47,
     "metadata": {},
     "output_type": "execute_result"
    }
   ],
   "source": [
    "# 查找北京市的id信息\n",
    "query = \"SELECT * FROM nodes_tags WHERE key='name' AND value='北京市'\"\n",
    "pd.read_sql_query(query, engine)"
   ]
  },
  {
   "cell_type": "code",
   "execution_count": 48,
   "metadata": {},
   "outputs": [
    {
     "data": {
      "text/html": [
       "<div>\n",
       "<style>\n",
       "    .dataframe thead tr:only-child th {\n",
       "        text-align: right;\n",
       "    }\n",
       "\n",
       "    .dataframe thead th {\n",
       "        text-align: left;\n",
       "    }\n",
       "\n",
       "    .dataframe tbody tr th {\n",
       "        vertical-align: top;\n",
       "    }\n",
       "</style>\n",
       "<table border=\"1\" class=\"dataframe\">\n",
       "  <thead>\n",
       "    <tr style=\"text-align: right;\">\n",
       "      <th></th>\n",
       "      <th>index</th>\n",
       "      <th>id</th>\n",
       "      <th>lat</th>\n",
       "      <th>lon</th>\n",
       "      <th>user</th>\n",
       "      <th>uid</th>\n",
       "      <th>version</th>\n",
       "      <th>changeset</th>\n",
       "      <th>timestamp</th>\n",
       "    </tr>\n",
       "  </thead>\n",
       "  <tbody>\n",
       "    <tr>\n",
       "      <th>0</th>\n",
       "      <td>1</td>\n",
       "      <td>25248662</td>\n",
       "      <td>39.905963</td>\n",
       "      <td>116.391248</td>\n",
       "      <td>ff5722</td>\n",
       "      <td>3450290</td>\n",
       "      <td>87</td>\n",
       "      <td>44008181</td>\n",
       "      <td>2016-11-28T14:28:46Z</td>\n",
       "    </tr>\n",
       "  </tbody>\n",
       "</table>\n",
       "</div>"
      ],
      "text/plain": [
       "   index        id        lat         lon    user      uid version  changeset  \\\n",
       "0      1  25248662  39.905963  116.391248  ff5722  3450290      87   44008181   \n",
       "\n",
       "              timestamp  \n",
       "0  2016-11-28T14:28:46Z  "
      ]
     },
     "execution_count": 48,
     "metadata": {},
     "output_type": "execute_result"
    }
   ],
   "source": [
    "# 查找北京市的经纬度信息\n",
    "query = \"SELECT * FROM nodes WHERE id=25248662\"\n",
    "pd.read_sql_query(query, engine)"
   ]
  },
  {
   "cell_type": "markdown",
   "metadata": {},
   "source": [
    "有了北京中心的坐标后，就可以根据每个id携带的经纬度数据，统计在四个不同区域内的节点数据了，并比较每个区域节点数占总节点数比例的情况。"
   ]
  },
  {
   "cell_type": "markdown",
   "metadata": {},
   "source": [
    "* 在东北方向，总共有225099个节点，占总节点数的27.34%。"
   ]
  },
  {
   "cell_type": "code",
   "execution_count": 49,
   "metadata": {},
   "outputs": [
    {
     "data": {
      "text/plain": [
       "225099"
      ]
     },
     "execution_count": 49,
     "metadata": {},
     "output_type": "execute_result"
    }
   ],
   "source": [
    "# 东北方向节点数\n",
    "query = \"SELECT COUNT(DISTINCT id) FROM nodes WHERE lat>39.905963 AND lon>116.391248\"\n",
    "east_north = pd.read_sql_query(query, engine).iloc[0,0]\n",
    "east_north"
   ]
  },
  {
   "cell_type": "code",
   "execution_count": 50,
   "metadata": {},
   "outputs": [
    {
     "data": {
      "text/plain": [
       "0.27344055587274207"
      ]
     },
     "execution_count": 50,
     "metadata": {},
     "output_type": "execute_result"
    }
   ],
   "source": [
    "# 东北方向节点数占比\n",
    "east_north / nodes_num"
   ]
  },
  {
   "cell_type": "markdown",
   "metadata": {},
   "source": [
    "* 在西北方向，总共有291253个节点，占总节点数的35.38%。"
   ]
  },
  {
   "cell_type": "code",
   "execution_count": 51,
   "metadata": {},
   "outputs": [
    {
     "data": {
      "text/plain": [
       "291253"
      ]
     },
     "execution_count": 51,
     "metadata": {},
     "output_type": "execute_result"
    }
   ],
   "source": [
    "# 西北方向节点数\n",
    "query = \"SELECT COUNT(DISTINCT id) FROM nodes WHERE lat>39.905963 AND lon<116.391248\"\n",
    "west_north = pd.read_sql_query(query, engine).iloc[0,0]\n",
    "west_north"
   ]
  },
  {
   "cell_type": "code",
   "execution_count": 52,
   "metadata": {},
   "outputs": [
    {
     "data": {
      "text/plain": [
       "0.35380158161344005"
      ]
     },
     "execution_count": 52,
     "metadata": {},
     "output_type": "execute_result"
    }
   ],
   "source": [
    "# 西北方向节点数占比\n",
    "west_north / nodes_num"
   ]
  },
  {
   "cell_type": "markdown",
   "metadata": {},
   "source": [
    "* 在东南方向，总共有175337个节点，占总节点数的21.30%。"
   ]
  },
  {
   "cell_type": "code",
   "execution_count": 53,
   "metadata": {},
   "outputs": [
    {
     "data": {
      "text/plain": [
       "175337"
      ]
     },
     "execution_count": 53,
     "metadata": {},
     "output_type": "execute_result"
    }
   ],
   "source": [
    "# 东南方向节点数\n",
    "query = \"SELECT COUNT(DISTINCT id) FROM nodes WHERE lat<39.905963 AND lon>116.391248\"\n",
    "east_south = pd.read_sql_query(query, engine).iloc[0,0]\n",
    "east_south"
   ]
  },
  {
   "cell_type": "code",
   "execution_count": 54,
   "metadata": {},
   "outputs": [
    {
     "data": {
      "text/plain": [
       "0.21299182468628905"
      ]
     },
     "execution_count": 54,
     "metadata": {},
     "output_type": "execute_result"
    }
   ],
   "source": [
    "# 东南方向节点数占比\n",
    "east_south / nodes_num"
   ]
  },
  {
   "cell_type": "markdown",
   "metadata": {},
   "source": [
    "* 在西南方向，总共有131520个节点，占总节点数的15.98%。"
   ]
  },
  {
   "cell_type": "code",
   "execution_count": 55,
   "metadata": {},
   "outputs": [
    {
     "data": {
      "text/plain": [
       "131520"
      ]
     },
     "execution_count": 55,
     "metadata": {},
     "output_type": "execute_result"
    }
   ],
   "source": [
    "# 西南方向节点数\n",
    "query = \"SELECT COUNT(DISTINCT id) FROM nodes WHERE lat<39.905963 AND lon<116.391248\"\n",
    "west_south = pd.read_sql_query(query, engine).iloc[0,0]\n",
    "west_south"
   ]
  },
  {
   "cell_type": "code",
   "execution_count": 56,
   "metadata": {},
   "outputs": [
    {
     "data": {
      "text/plain": [
       "0.15976482307066242"
      ]
     },
     "execution_count": 56,
     "metadata": {},
     "output_type": "execute_result"
    }
   ],
   "source": [
    "# 西南方向节点数占比\n",
    "west_south / nodes_num"
   ]
  },
  {
   "cell_type": "markdown",
   "metadata": {},
   "source": [
    "从上面计算的数据中，我们发现处在东北、西北方向的节点是远多于东南、西南方向的节点数的。北京北部地区的节点数占了62.72%，而南部地区只占了37.28%。这大概与北京南北区域发展不平衡有关，一般来说，北京的北边的地区经济更为发达，人口更为密集，而南边地区相对来说发展的没那么好，所以导致了节点数据在地理位置上分布的不均衡。"
   ]
  },
  {
   "cell_type": "code",
   "execution_count": 57,
   "metadata": {},
   "outputs": [
    {
     "data": {
      "text/plain": [
       "0.62724213748618218"
      ]
     },
     "execution_count": 57,
     "metadata": {},
     "output_type": "execute_result"
    }
   ],
   "source": [
    "# 北部地区节点占比\n",
    "(east_north + west_north) / nodes_num"
   ]
  },
  {
   "cell_type": "code",
   "execution_count": 58,
   "metadata": {},
   "outputs": [
    {
     "data": {
      "text/plain": [
       "0.37275664775695144"
      ]
     },
     "execution_count": 58,
     "metadata": {},
     "output_type": "execute_result"
    }
   ],
   "source": [
    "# 南部地区节点占比\n",
    "(east_south + west_south) / nodes_num"
   ]
  },
  {
   "cell_type": "markdown",
   "metadata": {},
   "source": [
    "以上关于数据在地理分布的上的讨论还是比较粗浅的，只是粗暴的把北京地区分为四个大致的区域。其实还可以根据具体的城区（比如海淀区、朝阳区等）来做进一步的细分，但是目前缺少关于节点所在城区的细节信息，这也是现有的数据中可以加以完善的方面。如果有了更进一步的城区信息，就可以对不同城区的数据做更精细的分析，比如分析各城区的商店、银行、道路情况等信息，从而观察它们的经济发展水平。"
   ]
  },
  {
   "cell_type": "markdown",
   "metadata": {},
   "source": [
    "## 总结\n",
    "\n",
    "这篇报告整理并分析了OpenStreetMap开放地图中关于北京地区的数据。\n",
    "* 首先，是对数据做了一些清洗工作，比如对电话号码、营业时间格式做了统一，剔除了错误的邮政编码和门牌号数据，以及补全了缺失的name属性值。\n",
    "\n",
    "* 然后，将清洗后的数据存入SQLite数据库中，并通过SQL查询语句统计了数据中的若干信息，比如节点和途径的相关统计、用户的相关统计，以及查看了信号灯最多的前十条途径和它们的名称。\n",
    "\n",
    "* 最后，给出了关于数据集的一些其他想法，这里讨论了数据标注的完整性问题，以及节点在地理分布上的差异情况。"
   ]
  },
  {
   "cell_type": "markdown",
   "metadata": {},
   "source": [
    "## 参考资源\n",
    "\n",
    "* [OpenStreetMap官网](https://www.openstreetmap.org/)\n",
    "* [OpenStreetMap 维基页面](https://wiki.openstreetmap.org/wiki/Main_Page)\n",
    "* [Mapzen 北京地区数据下载地址](https://mapzen.com/data/metro-extracts/metro/beijing_china/)\n",
    "* [手机号码百度百科](https://baike.baidu.com/item/手机号码)\n",
    "* [北京邮编区号大全](http://www.ip138.com/post/beijing/)"
   ]
  }
 ],
 "metadata": {
  "kernelspec": {
   "display_name": "Python 3",
   "language": "python",
   "name": "python3"
  },
  "language_info": {
   "codemirror_mode": {
    "name": "ipython",
    "version": 3
   },
   "file_extension": ".py",
   "mimetype": "text/x-python",
   "name": "python",
   "nbconvert_exporter": "python",
   "pygments_lexer": "ipython3",
   "version": "3.6.1"
  }
 },
 "nbformat": 4,
 "nbformat_minor": 2
}
